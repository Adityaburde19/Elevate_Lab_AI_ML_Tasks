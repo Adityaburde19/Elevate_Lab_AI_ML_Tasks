{
 "cells": [
  {
   "cell_type": "markdown",
   "id": "fe74e4e6-dadf-4df5-9fd9-86f02c2c5cde",
   "metadata": {},
   "source": [
    "## AI/ML Internship"
   ]
  },
  {
   "cell_type": "markdown",
   "id": "23ab8301-4f8e-4e72-b153-c565dc18baff",
   "metadata": {},
   "source": [
    "### Task 1: Data Cleaning & Preprocessing"
   ]
  },
  {
   "cell_type": "markdown",
   "id": "6413ad62-8836-4f35-8399-4ea89f5bace3",
   "metadata": {},
   "source": [
    "#### 1. Importing necessary Library"
   ]
  },
  {
   "cell_type": "code",
   "execution_count": 41,
   "id": "ed05ff67-4180-4ab0-b428-b7971d2df299",
   "metadata": {},
   "outputs": [],
   "source": [
    "import pandas as pd\n",
    "import numpy as np\n",
    "import matplotlib.pyplot as plt\n",
    "import seaborn as sns\n",
    "\n",
    "from sklearn.preprocessing import StandardScaler"
   ]
  },
  {
   "cell_type": "code",
   "execution_count": 2,
   "id": "13cf24d2-f6fa-4edc-80c2-dc4e9ede7b9d",
   "metadata": {},
   "outputs": [],
   "source": [
    "import warnings\n",
    "warnings.filterwarnings('ignore')"
   ]
  },
  {
   "cell_type": "markdown",
   "id": "8672cbff-e3da-490c-8dbb-fc8d3a814299",
   "metadata": {},
   "source": [
    "#### Loading the data and exploring the data"
   ]
  },
  {
   "cell_type": "code",
   "execution_count": 17,
   "id": "c6a3e037-4091-45fc-ab1f-3a6f0f904ed0",
   "metadata": {},
   "outputs": [],
   "source": [
    "titanic_data = pd.read_csv('Titanic-Dataset.csv')"
   ]
  },
  {
   "cell_type": "code",
   "execution_count": 18,
   "id": "5f9b9b62-3b33-47aa-bb80-0a2880ba45e8",
   "metadata": {},
   "outputs": [
    {
     "name": "stdout",
     "output_type": "stream",
     "text": [
      "Dataset Information:\n",
      "<class 'pandas.core.frame.DataFrame'>\n",
      "RangeIndex: 891 entries, 0 to 890\n",
      "Data columns (total 12 columns):\n",
      " #   Column       Non-Null Count  Dtype  \n",
      "---  ------       --------------  -----  \n",
      " 0   PassengerId  891 non-null    int64  \n",
      " 1   Survived     891 non-null    int64  \n",
      " 2   Pclass       891 non-null    int64  \n",
      " 3   Name         891 non-null    object \n",
      " 4   Sex          891 non-null    object \n",
      " 5   Age          714 non-null    float64\n",
      " 6   SibSp        891 non-null    int64  \n",
      " 7   Parch        891 non-null    int64  \n",
      " 8   Ticket       891 non-null    object \n",
      " 9   Fare         891 non-null    float64\n",
      " 10  Cabin        204 non-null    object \n",
      " 11  Embarked     889 non-null    object \n",
      "dtypes: float64(2), int64(5), object(5)\n",
      "memory usage: 83.7+ KB\n"
     ]
    }
   ],
   "source": [
    "# Displaying basic information\n",
    "print(\"Dataset Information:\")\n",
    "titanic_data.info()"
   ]
  },
  {
   "cell_type": "code",
   "execution_count": 19,
   "id": "112f8f90-4140-42f6-98a9-4befc6b48be2",
   "metadata": {},
   "outputs": [
    {
     "name": "stdout",
     "output_type": "stream",
     "text": [
      "\n",
      "Null Values per Column:\n",
      "PassengerId      0\n",
      "Survived         0\n",
      "Pclass           0\n",
      "Name             0\n",
      "Sex              0\n",
      "Age            177\n",
      "SibSp            0\n",
      "Parch            0\n",
      "Ticket           0\n",
      "Fare             0\n",
      "Cabin          687\n",
      "Embarked         2\n",
      "dtype: int64\n"
     ]
    }
   ],
   "source": [
    "# Displaying the number of null values per column\n",
    "print(\"\\nNull Values per Column:\")\n",
    "print(titanic_data.isnull().sum())"
   ]
  },
  {
   "cell_type": "code",
   "execution_count": 20,
   "id": "5407d147-9ef5-48d9-9110-604cd037dcfc",
   "metadata": {},
   "outputs": [
    {
     "name": "stdout",
     "output_type": "stream",
     "text": [
      "\n",
      "Data Types:\n"
     ]
    },
    {
     "data": {
      "text/plain": [
       "PassengerId      int64\n",
       "Survived         int64\n",
       "Pclass           int64\n",
       "Name            object\n",
       "Sex             object\n",
       "Age            float64\n",
       "SibSp            int64\n",
       "Parch            int64\n",
       "Ticket          object\n",
       "Fare           float64\n",
       "Cabin           object\n",
       "Embarked        object\n",
       "dtype: object"
      ]
     },
     "execution_count": 20,
     "metadata": {},
     "output_type": "execute_result"
    }
   ],
   "source": [
    "# Displaying data types\n",
    "print(\"\\nData Types:\")\n",
    "titanic_data.dtypes"
   ]
  },
  {
   "cell_type": "markdown",
   "id": "506e6412-1a3c-4340-8a7f-c18ce03470f2",
   "metadata": {},
   "source": [
    "#### 2. Handle missing values using mean, median and imputation"
   ]
  },
  {
   "cell_type": "code",
   "execution_count": 21,
   "id": "0cdc3f18-b5a3-407d-a34a-5ea32e1172de",
   "metadata": {},
   "outputs": [],
   "source": [
    "# Imputing missing 'Age' values with the median\n",
    "titanic_data['Age'].fillna(titanic_data['Age'].median(), inplace=True)"
   ]
  },
  {
   "cell_type": "code",
   "execution_count": 22,
   "id": "73e5d4cd-3c72-48c4-93c0-a177e8d9118a",
   "metadata": {},
   "outputs": [],
   "source": [
    "# Filling missing 'Cabin' values with 'Unknown'\n",
    "titanic_data['Cabin'].fillna('Unknown', inplace=True)"
   ]
  },
  {
   "cell_type": "code",
   "execution_count": 23,
   "id": "2ec380a1-ffe2-4f2b-94ab-888b326bad9a",
   "metadata": {},
   "outputs": [],
   "source": [
    "# Imputing missing 'Embarked' values with the mode\n",
    "titanic_data['Embarked'].fillna(titanic_data['Embarked'].mode()[0], inplace=True)"
   ]
  },
  {
   "cell_type": "code",
   "execution_count": 24,
   "id": "ae6fd4f6-8699-49f6-a57c-98bdcaf6c2a9",
   "metadata": {},
   "outputs": [
    {
     "name": "stdout",
     "output_type": "stream",
     "text": [
      "\n",
      "Null Values after Imputation:\n",
      "PassengerId    0\n",
      "Survived       0\n",
      "Pclass         0\n",
      "Name           0\n",
      "Sex            0\n",
      "Age            0\n",
      "SibSp          0\n",
      "Parch          0\n",
      "Ticket         0\n",
      "Fare           0\n",
      "Cabin          0\n",
      "Embarked       0\n",
      "dtype: int64\n"
     ]
    }
   ],
   "source": [
    "print(\"\\nNull Values after Imputation:\")\n",
    "print(titanic_data.isnull().sum())"
   ]
  },
  {
   "cell_type": "markdown",
   "id": "6c4d181b-916a-429c-9134-35e7b6726979",
   "metadata": {},
   "source": [
    "#### 3. Convert categorical features into numerical using encoding"
   ]
  },
  {
   "cell_type": "code",
   "execution_count": 25,
   "id": "b5b385ee-1dae-4865-8dcb-6e4482e0b129",
   "metadata": {},
   "outputs": [],
   "source": [
    "# One-hot encoding 'Sex'\n",
    "titanic_data = pd.get_dummies(titanic_data, columns=['Sex'], drop_first=True)"
   ]
  },
  {
   "cell_type": "code",
   "execution_count": 26,
   "id": "0b8feb62-a0ea-4fb2-99b7-614c9131bf12",
   "metadata": {},
   "outputs": [],
   "source": [
    "# One-hot encoding 'Embarked'\n",
    "titanic_data = pd.get_dummies(titanic_data, columns=['Embarked'], drop_first=True)"
   ]
  },
  {
   "cell_type": "code",
   "execution_count": 27,
   "id": "df42ca0b-51d2-4aa5-805b-0564b388f1ce",
   "metadata": {},
   "outputs": [],
   "source": [
    "# Extracting the first letter from 'Cabin' to represent the deck\n",
    "titanic_data['Deck'] = titanic_data['Cabin'].apply(lambda x: x[0] if pd.notna(x) else 'U')\n",
    "titanic_data = pd.get_dummies(titanic_data, columns=['Deck'], drop_first=True)"
   ]
  },
  {
   "cell_type": "code",
   "execution_count": 28,
   "id": "f0e1895f-aa9f-4517-91e2-785f9a7d2dab",
   "metadata": {},
   "outputs": [],
   "source": [
    "# Droping the original 'Cabin' column\n",
    "titanic_data.drop('Cabin', axis=1, inplace=True)"
   ]
  },
  {
   "cell_type": "code",
   "execution_count": 32,
   "id": "5d96b110-c3f8-41e4-bbd5-8115bab924f2",
   "metadata": {},
   "outputs": [
    {
     "name": "stdout",
     "output_type": "stream",
     "text": [
      "\n",
      "DataFrame after One-Hot Encoding:\n",
      "   PassengerId  Survived  Pclass  \\\n",
      "0            1         0       3   \n",
      "1            2         1       1   \n",
      "2            3         1       3   \n",
      "3            4         1       1   \n",
      "4            5         0       3   \n",
      "\n",
      "                                                Name   Age  SibSp  Parch  \\\n",
      "0                            Braund, Mr. Owen Harris  22.0      1      0   \n",
      "1  Cumings, Mrs. John Bradley (Florence Briggs Th...  38.0      1      0   \n",
      "2                             Heikkinen, Miss. Laina  26.0      0      0   \n",
      "3       Futrelle, Mrs. Jacques Heath (Lily May Peel)  35.0      1      0   \n",
      "4                           Allen, Mr. William Henry  35.0      0      0   \n",
      "\n",
      "             Ticket     Fare  Sex_male  Embarked_Q  Embarked_S  Deck_B  \\\n",
      "0         A/5 21171   7.2500      True       False        True   False   \n",
      "1          PC 17599  71.2833     False       False       False   False   \n",
      "2  STON/O2. 3101282   7.9250     False       False        True   False   \n",
      "3            113803  53.1000     False       False        True   False   \n",
      "4            373450   8.0500      True       False        True   False   \n",
      "\n",
      "   Deck_C  Deck_D  Deck_E  Deck_F  Deck_G  Deck_T  Deck_U  \n",
      "0   False   False   False   False   False   False    True  \n",
      "1    True   False   False   False   False   False   False  \n",
      "2   False   False   False   False   False   False    True  \n",
      "3    True   False   False   False   False   False   False  \n",
      "4   False   False   False   False   False   False    True  \n",
      "--------------------------------------------------------------------------------------------\n",
      "\n",
      "Data Types after Encoding:\n",
      "PassengerId      int64\n",
      "Survived         int64\n",
      "Pclass           int64\n",
      "Name            object\n",
      "Age            float64\n",
      "SibSp            int64\n",
      "Parch            int64\n",
      "Ticket          object\n",
      "Fare           float64\n",
      "Sex_male          bool\n",
      "Embarked_Q        bool\n",
      "Embarked_S        bool\n",
      "Deck_B            bool\n",
      "Deck_C            bool\n",
      "Deck_D            bool\n",
      "Deck_E            bool\n",
      "Deck_F            bool\n",
      "Deck_G            bool\n",
      "Deck_T            bool\n",
      "Deck_U            bool\n",
      "dtype: object\n"
     ]
    }
   ],
   "source": [
    "print(\"\\nDataFrame after One-Hot Encoding:\")\n",
    "print(titanic_data.head())\n",
    "print(\"--------------------------------------------------------------------------------------------\")\n",
    "print(\"\\nData Types after Encoding:\")\n",
    "print(titanic_data.dtypes)"
   ]
  },
  {
   "cell_type": "markdown",
   "id": "d82b04c0-38fd-4ba5-9d21-8cae3eb2d153",
   "metadata": {},
   "source": [
    "#### 4. Normalize/standardize the numerical features"
   ]
  },
  {
   "cell_type": "code",
   "execution_count": 34,
   "id": "525f9e48-35f3-4d27-9040-4c7bac9f9bc8",
   "metadata": {},
   "outputs": [],
   "source": [
    "# Identifying numerical columns for scaling\n",
    "numerical_columns = ['Age', 'Fare', 'SibSp', 'Parch']"
   ]
  },
  {
   "cell_type": "code",
   "execution_count": 35,
   "id": "2950b398-4d3e-4813-988c-2f3b885dd83e",
   "metadata": {},
   "outputs": [],
   "source": [
    "# Initialize StandardScaler\n",
    "scaler = StandardScaler()"
   ]
  },
  {
   "cell_type": "code",
   "execution_count": 38,
   "id": "9176a5b4-33bd-4e54-81bd-958738c14bf3",
   "metadata": {},
   "outputs": [],
   "source": [
    "# Applying standardization\n",
    "titanic_data[numerical_columns] = scaler.fit_transform(titanic_data[numerical_columns])"
   ]
  },
  {
   "cell_type": "code",
   "execution_count": 39,
   "id": "043b6ea5-b9d2-45e0-8013-35d786147220",
   "metadata": {},
   "outputs": [
    {
     "name": "stdout",
     "output_type": "stream",
     "text": [
      "\n",
      "DataFrame after Standardization:\n",
      "   PassengerId  Survived  Pclass  \\\n",
      "0            1         0       3   \n",
      "1            2         1       1   \n",
      "2            3         1       3   \n",
      "3            4         1       1   \n",
      "4            5         0       3   \n",
      "\n",
      "                                                Name       Age     SibSp  \\\n",
      "0                            Braund, Mr. Owen Harris -0.565736  0.432793   \n",
      "1  Cumings, Mrs. John Bradley (Florence Briggs Th...  0.663861  0.432793   \n",
      "2                             Heikkinen, Miss. Laina -0.258337 -0.474545   \n",
      "3       Futrelle, Mrs. Jacques Heath (Lily May Peel)  0.433312  0.432793   \n",
      "4                           Allen, Mr. William Henry  0.433312 -0.474545   \n",
      "\n",
      "      Parch            Ticket      Fare  Sex_male  Embarked_Q  Embarked_S  \\\n",
      "0 -0.473674         A/5 21171 -0.502445      True       False        True   \n",
      "1 -0.473674          PC 17599  0.786845     False       False       False   \n",
      "2 -0.473674  STON/O2. 3101282 -0.488854     False       False        True   \n",
      "3 -0.473674            113803  0.420730     False       False        True   \n",
      "4 -0.473674            373450 -0.486337      True       False        True   \n",
      "\n",
      "   Deck_B  Deck_C  Deck_D  Deck_E  Deck_F  Deck_G  Deck_T  Deck_U  \n",
      "0   False   False   False   False   False   False   False    True  \n",
      "1   False    True   False   False   False   False   False   False  \n",
      "2   False   False   False   False   False   False   False    True  \n",
      "3   False    True   False   False   False   False   False   False  \n",
      "4   False   False   False   False   False   False   False    True  \n"
     ]
    }
   ],
   "source": [
    "print(\"\\nDataFrame after Standardization:\")\n",
    "print(titanic_data.head())"
   ]
  },
  {
   "cell_type": "markdown",
   "id": "95e0638b-7eaa-4844-a49a-8eab165530f3",
   "metadata": {},
   "source": [
    "#### 5. Visualize outliers using boxplots and remove them"
   ]
  },
  {
   "cell_type": "code",
   "execution_count": 42,
   "id": "01ead24a-46e3-4fa5-aa05-ab8fc4d044f2",
   "metadata": {},
   "outputs": [
    {
     "data": {
      "text/plain": [
       "Text(0.5, 1.0, 'Boxplot of Age')"
      ]
     },
     "execution_count": 42,
     "metadata": {},
     "output_type": "execute_result"
    },
    {
     "data": {
      "image/png": "[encoded data removed]",
      "text/plain": [
       "<Figure size 1200x500 with 1 Axes>"
      ]
     },
     "metadata": {},
     "output_type": "display_data"
    }
   ],
   "source": [
    "# Visualize outliers using boxplots for 'Age' and 'Fare'\n",
    "plt.figure(figsize=(12, 5))\n",
    "plt.subplot(1, 2, 1)\n",
    "sns.boxplot(y=titanic_data['Age'])\n",
    "plt.title('Boxplot of Age')"
   ]
  },
  {
   "cell_type": "code",
   "execution_count": 49,
   "id": "065196db-9833-461e-9b80-2937c87b89ab",
   "metadata": {},
   "outputs": [
    {
     "data": {
      "image/png": "[encoded data removed]",
      "text/plain": [
       "<Figure size 640x480 with 1 Axes>"
      ]
     },
     "metadata": {},
     "output_type": "display_data"
    }
   ],
   "source": [
    "plt.subplot(1, 2, 2)\n",
    "sns.boxplot(y=titanic_data['Fare'])\n",
    "plt.title('Boxplot of Fare')\n",
    "plt.tight_layout()\n",
    "plt.show()"
   ]
  },
  {
   "cell_type": "code",
   "execution_count": 50,
   "id": "d1923520-d465-48cf-a84d-0ae92abbbe03",
   "metadata": {},
   "outputs": [],
   "source": [
    "# Function to remove outliers using IQR\n",
    "def remove_outliers_iqr(titanic_data, column):\n",
    "    Q1 = titanic_data[column].quantile(0.25)\n",
    "    Q3 = titanic_data[column].quantile(0.75)\n",
    "    IQR = Q3 - Q1\n",
    "    lower_bound = Q1 - 1.5 * IQR\n",
    "    upper_bound = Q3 + 1.5 * IQR\n",
    "    titanic_data_filtered = titanic_data[(titanic_data[column] >= lower_bound) & (titanic_data[column] <= upper_bound)]\n",
    "    return titanic_data_filtered"
   ]
  },
  {
   "cell_type": "code",
   "execution_count": 53,
   "id": "2c40f1e4-8013-4556-a621-de1abc35af7e",
   "metadata": {},
   "outputs": [
    {
     "name": "stdout",
     "output_type": "stream",
     "text": [
      "\n",
      "Shape after removing Age outliers: (825, 20)\n"
     ]
    }
   ],
   "source": [
    "# Removing outliers from 'Age'\n",
    "titanic_data_no_outliers_age = remove_outliers_iqr(titanic_data, 'Age')\n",
    "print(f\"\\nShape after removing Age outliers: {titanic_data_no_outliers_age.shape}\")"
   ]
  },
  {
   "cell_type": "code",
   "execution_count": 54,
   "id": "b553dcea-38de-4e68-a4f2-2fbdd4a2d2ed",
   "metadata": {},
   "outputs": [
    {
     "name": "stdout",
     "output_type": "stream",
     "text": [
      "Shape after removing Fare outliers: (718, 20)\n"
     ]
    }
   ],
   "source": [
    "# Removing outliers from 'Fare'\n",
    "titanic_data_no_outliers_fare = remove_outliers_iqr(titanic_data_no_outliers_age, 'Fare')\n",
    "print(f\"Shape after removing Fare outliers: {titanic_data_no_outliers_fare.shape}\")"
   ]
  },
  {
   "cell_type": "code",
   "execution_count": 56,
   "id": "23a99751-b553-4bdf-a437-0c2492c5bae7",
   "metadata": {},
   "outputs": [
    {
     "data": {
      "image/png": "[encoded data removed]",
      "text/plain": [
       "<Figure size 1200x500 with 2 Axes>"
      ]
     },
     "metadata": {},
     "output_type": "display_data"
    },
    {
     "name": "stdout",
     "output_type": "stream",
     "text": [
      "\n",
      "Final DataFrame after preprocessing:\n",
      "   PassengerId  Survived  Pclass  \\\n",
      "0            1         0       3   \n",
      "2            3         1       3   \n",
      "3            4         1       1   \n",
      "4            5         0       3   \n",
      "5            6         0       3   \n",
      "\n",
      "                                           Name       Age     SibSp     Parch  \\\n",
      "0                       Braund, Mr. Owen Harris -0.565736  0.432793 -0.473674   \n",
      "2                        Heikkinen, Miss. Laina -0.258337 -0.474545 -0.473674   \n",
      "3  Futrelle, Mrs. Jacques Heath (Lily May Peel)  0.433312  0.432793 -0.473674   \n",
      "4                      Allen, Mr. William Henry  0.433312 -0.474545 -0.473674   \n",
      "5                              Moran, Mr. James -0.104637 -0.474545 -0.473674   \n",
      "\n",
      "             Ticket      Fare  Sex_male  Embarked_Q  Embarked_S  Deck_B  \\\n",
      "0         A/5 21171 -0.502445      True       False        True   False   \n",
      "2  STON/O2. 3101282 -0.488854     False       False        True   False   \n",
      "3            113803  0.420730     False       False        True   False   \n",
      "4            373450 -0.486337      True       False        True   False   \n",
      "5            330877 -0.478116      True        True       False   False   \n",
      "\n",
      "   Deck_C  Deck_D  Deck_E  Deck_F  Deck_G  Deck_T  Deck_U  \n",
      "0   False   False   False   False   False   False    True  \n",
      "2   False   False   False   False   False   False    True  \n",
      "3    True   False   False   False   False   False   False  \n",
      "4   False   False   False   False   False   False    True  \n",
      "5   False   False   False   False   False   False    True  \n"
     ]
    }
   ],
   "source": [
    "# Visualize boxplots after outlier removal\n",
    "plt.figure(figsize=(12, 5))\n",
    "plt.subplot(1, 2, 1)\n",
    "sns.boxplot(y=titanic_data_no_outliers_fare['Age'])\n",
    "plt.title('Boxplot of Age (Outliers Removed)')\n",
    "\n",
    "plt.subplot(1, 2, 2)\n",
    "sns.boxplot(y=titanic_data_no_outliers_fare['Fare'])\n",
    "plt.title('Boxplot of Fare (Outliers Removed)')\n",
    "plt.tight_layout()\n",
    "plt.show()\n",
    "\n",
    "print(\"\\nFinal DataFrame after preprocessing:\")\n",
    "print(titanic_data_no_outliers_fare.head())"
   ]
  },
  {
   "cell_type": "code",
   "execution_count": null,
   "id": "0eda7ad8-5f1a-4346-b2dc-e7af6d7b825f",
   "metadata": {},
   "outputs": [],
   "source": []
  },
  {
   "cell_type": "markdown",
   "id": "e1786462-56c2-4fdc-a535-fc6266153b88",
   "metadata": {},
   "source": []
  },
  {
   "cell_type": "markdown",
   "id": "25631534-1fba-415e-8869-277068e946bc",
   "metadata": {},
   "source": [
    "## 1. What are the different types of missing data?\n",
    "Missing data can be categorized into three types:\n",
    "\n",
    "- **Missing Completely at Random (MCAR)**: The missingness of data is entirely random and does not depend on any observed or unobserved data. For example, a survey respondent might skip a question by accident.\n",
    "\n",
    "- **Missing at Random (MAR)**: The missingness is related to the observed data but not the missing data itself. For instance, older individuals might be less likely to report their income, but this can be predicted by their age.\n",
    "\n",
    "- **Missing Not at Random (MNAR)**: The missingness is related to the missing data itself. For example, people with very high incomes may choose not to disclose their income, leading to missing values that are not random."
   ]
  },
  {
   "cell_type": "markdown",
   "id": "a64233a6-c2a5-44a5-ba9e-55d2b864fad0",
   "metadata": {},
   "source": [
    "## 2. How do you handle categorical variables?\n",
    "\n",
    "Categorical variables can be handled using various encoding techniques:\n",
    "\n",
    "- **One-Hot Encoding**: Converts categorical variables into a format that can be provided to ML algorithms to do a better job in prediction. Each category is represented as a binary vector.\n",
    "\n",
    "- **Label Encoding**: Converts each category into a unique integer. This is useful for ordinal data where the order matters.\n",
    "\n",
    "- **Binary Encoding**: Combines the benefits of one-hot and label encoding, converting categories into binary numbers."
   ]
  },
  {
   "cell_type": "markdown",
   "id": "1cc198dd-7d47-4284-85aa-5a66ff4c5765",
   "metadata": {},
   "source": [
    "## 3. What is the difference between normalization and standardization?\n",
    "- **Normalization**: Rescales the feature to a fixed range, usually [0, 1]. It is useful when the data does not follow a Gaussian distribution. The formula is:\n",
    "\n",
    "\\$\n",
    "X' = \\frac{X - X_{min}}{X_{max} - X_{min}}\n",
    "\\$\n",
    "\n",
    "- **Standardization**: Rescales the feature to have a mean of 0 and a standard deviation of 1. It is useful when the data follows a Gaussian distribution. The formula is:\n",
    "\n",
    "\\$\n",
    "X' = \\frac{X - \\mu}{\\sigma}\n",
    "\\$"
   ]
  },
  {
   "cell_type": "markdown",
   "id": "c5a32e50-ecb6-42fc-83a8-0feb8aabb3da",
   "metadata": {},
   "source": [
    "## 4. How do you detect outliers?\n",
    "Outliers can be detected using various methods:\n",
    "\n",
    "- **Statistical Methods**: Using Z-scores or the Interquartile Range (IQR) method. For example, values that lie beyond 1.5 times the IQR from the quartiles can be considered outliers.\n",
    "\n",
    "- **Visualization**: Boxplots and scatter plots can visually indicate the presence of outliers.\n",
    "\n",
    "```python\n",
    "import seaborn as sns\n",
    "import matplotlib.pyplot as plt\n",
    "\n",
    "# Example of detecting outliers using a boxplot\n",
    "sns.boxplot(x=titanic_data['Age'])\n",
    "plt.title('Boxplot of Age')\n",
    "plt.show()"
   ]
  },
  {
   "cell_type": "code",
   "execution_count": null,
   "id": "a0bd318f-acdf-44a0-88df-f0298d27aee1",
   "metadata": {},
   "outputs": [],
   "source": []
  },
  {
   "cell_type": "code",
   "execution_count": null,
   "id": "2e91ebe0-3b27-4893-a815-8a829c4796ee",
   "metadata": {},
   "outputs": [],
   "source": []
  },
  {
   "cell_type": "code",
   "execution_count": null,
   "id": "0a0657b6-98c2-463f-8c63-db1042a22beb",
   "metadata": {},
   "outputs": [],
   "source": []
  }
 ],
 "metadata": {
  "kernelspec": {
   "display_name": "Python 3 (ipykernel)",
   "language": "python",
   "name": "python3"
  },
  "language_info": {
   "codemirror_mode": {
    "name": "ipython",
    "version": 3
   },
   "file_extension": ".py",
   "mimetype": "text/x-python",
   "name": "python",
   "nbconvert_exporter": "python",
   "pygments_lexer": "ipython3",
   "version": "3.13.3"
  }
 },
 "nbformat": 4,
 "nbformat_minor": 5
}
